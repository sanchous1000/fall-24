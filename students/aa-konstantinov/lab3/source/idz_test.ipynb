{
 "cells": [
  {
   "cell_type": "code",
   "execution_count": 187,
   "metadata": {},
   "outputs": [],
   "source": [
    "from sklearn.datasets import load_iris\n",
    "from ID3 import ID3\n",
    "import pandas as pd\n",
    "from sklearn.tree import DecisionTreeClassifier, DecisionTreeRegressor\n",
    "from sklearn.model_selection import train_test_split\n",
    "from sklearn.metrics import accuracy_score\n",
    "import numpy as np\n",
    "from pprint import pprint\n",
    "from sklearn.metrics import mean_squared_error, mean_absolute_error\n",
    "import matplotlib.pyplot as plt"
   ]
  },
  {
   "cell_type": "code",
   "execution_count": 188,
   "metadata": {},
   "outputs": [],
   "source": [
    "data = load_iris()\n",
    "X , y = data.data, data.target\n",
    "X_train, X_test, y_train, y_test = train_test_split(X, y, test_size=0.25)\n",
    "X_val, _, y_val, _ = train_test_split(X, y, test_size=0.4)\n",
    "X_train, X_test, y_train, y_test = np.array(X_train), np.array(X_test), np.array(y_train), np.array(y_test)"
   ]
  },
  {
   "cell_type": "code",
   "execution_count": 189,
   "metadata": {},
   "outputs": [
    {
     "name": "stdout",
     "output_type": "stream",
     "text": [
      "Точность entropy: 0.9473684210526315\n",
      "Accuracy (Entropy Criterion): 0.9736842105263158\n",
      "CPU times: user 15.9 ms, sys: 1.12 ms, total: 17 ms\n",
      "Wall time: 16.3 ms\n"
     ]
    }
   ],
   "source": [
    "%%time\n",
    "tree_entropy = ID3(gain_type = 'entropy', min_samples_leaf = 4, max_depth=10)\n",
    "tree_entropy.fit(X_train, y_train)\n",
    "y_pred = tree_entropy.predict(X_test)\n",
    "print(f\"Точность entropy: {accuracy_score(y_test, y_pred)}\")\n",
    "\n",
    "new_one = tree_entropy.pruning(X_val, y_val)\n",
    "tree_entropy.dec_tree = new_one\n",
    "y_pred = tree_entropy.predict(X_test)\n",
    "print(f\"Accuracy (Entropy Criterion): {accuracy_score(y_test, y_pred)}\")"
   ]
  },
  {
   "cell_type": "markdown",
   "metadata": {},
   "source": [
    "# Classification"
   ]
  },
  {
   "cell_type": "code",
   "execution_count": 190,
   "metadata": {},
   "outputs": [],
   "source": [
    "star = pd.read_csv ('https://github.com/YBIFoundation/Dataset/raw/main/Stars.csv')"
   ]
  },
  {
   "cell_type": "code",
   "execution_count": 191,
   "metadata": {},
   "outputs": [],
   "source": [
    "star.replace({'Spectral Class':{'M':0, 'A':1, 'B':1, 'F':1, 'O':1, 'K':1, 'G':1 }}, inplace=True)\n",
    "star.replace({'Star color':{ 'Red':0, 'Yellow':1, 'White':2, 'White ': 2, 'Blue ':3, 'Blue':3 }}, inplace=True)\n",
    "y = star['Spectral Class']\n",
    "X = star[['Temperature (K)', 'Luminosity (L/Lo)', 'Radius (R/Ro)',\n",
    "       'Absolute magnitude (Mv)']]"
   ]
  },
  {
   "cell_type": "code",
   "execution_count": 192,
   "metadata": {},
   "outputs": [],
   "source": [
    "X_train, X_test, y_train, y_test = train_test_split(X, y, train_size = 0.8, random_state = 200)\n",
    "X_val, _, y_val, _ = train_test_split(X, y, test_size=0.5, random_state=200)"
   ]
  },
  {
   "cell_type": "markdown",
   "metadata": {},
   "source": [
    "# Создание пропусков"
   ]
  },
  {
   "cell_type": "code",
   "execution_count": 193,
   "metadata": {},
   "outputs": [],
   "source": [
    "X_train, X_test, y_train, y_test  = np.array(X_train),  np.array(X_test),  np.array(y_train),  np.array(y_test )\n",
    "X_val, y_val = np.array(X_val), np.array(y_val)"
   ]
  },
  {
   "cell_type": "code",
   "execution_count": 194,
   "metadata": {},
   "outputs": [],
   "source": [
    "num_none = 2  \n",
    "shape_1 = np.random.choice(len(X_train), size=num_none, replace=True)\n",
    "shape_2 = np.random.choice(len(X_train[1]), size=num_none, replace=True)"
   ]
  },
  {
   "cell_type": "code",
   "execution_count": 195,
   "metadata": {},
   "outputs": [],
   "source": [
    "X_train[shape_1, shape_2] = None"
   ]
  },
  {
   "cell_type": "markdown",
   "metadata": {},
   "source": [
    "## Обучение "
   ]
  },
  {
   "cell_type": "markdown",
   "metadata": {},
   "source": [
    "### Entropy"
   ]
  },
  {
   "cell_type": "code",
   "execution_count": 196,
   "metadata": {},
   "outputs": [
    {
     "name": "stdout",
     "output_type": "stream",
     "text": [
      "Точность entropy: 1.0\n",
      "CPU times: user 33.1 ms, sys: 1.21 ms, total: 34.3 ms\n",
      "Wall time: 33.8 ms\n"
     ]
    }
   ],
   "source": [
    "%%time\n",
    "tree_entropy = ID3(gain_type = 'entropy', min_samples_leaf = 4, max_depth=10)\n",
    "tree_entropy.fit(X_train, y_train)\n",
    "y_pred = tree_entropy.predict(X_test)\n",
    "print(f\"Точность entropy: {accuracy_score(y_test, y_pred)}\")"
   ]
  },
  {
   "cell_type": "code",
   "execution_count": 197,
   "metadata": {},
   "outputs": [
    {
     "name": "stdout",
     "output_type": "stream",
     "text": [
      "Точность entropy: 1.00\n",
      "CPU times: user 1.22 ms, sys: 771 µs, total: 2 ms\n",
      "Wall time: 1.37 ms\n"
     ]
    }
   ],
   "source": [
    "%%time\n",
    "id_tree = DecisionTreeClassifier(criterion='entropy', random_state=42)\n",
    "id_tree.fit(X_train, y_train)\n",
    "\n",
    "y_pred = id_tree.predict(X_test)\n",
    "accuracy = accuracy_score(y_test, y_pred)\n",
    "print(f\"Точность entropy: {accuracy:.2f}\")"
   ]
  },
  {
   "cell_type": "markdown",
   "metadata": {},
   "source": [
    "### Прунинг"
   ]
  },
  {
   "cell_type": "code",
   "execution_count": 198,
   "metadata": {},
   "outputs": [
    {
     "name": "stdout",
     "output_type": "stream",
     "text": [
      "Accuracy (Entropy Criterion): 1.0\n",
      "CPU times: user 776 µs, sys: 492 µs, total: 1.27 ms\n",
      "Wall time: 921 µs\n"
     ]
    }
   ],
   "source": [
    "%%time\n",
    "new_one = tree_entropy.pruning(X_val, y_val)\n",
    "tree_entropy.dec_tree = new_one\n",
    "y_pred = tree_entropy.predict(X_test)\n",
    "print(f\"Accuracy (Entropy Criterion): {accuracy_score(y_test, y_pred)}\")"
   ]
  },
  {
   "cell_type": "code",
   "execution_count": null,
   "metadata": {},
   "outputs": [],
   "source": []
  },
  {
   "cell_type": "markdown",
   "metadata": {},
   "source": [
    "# Regression"
   ]
  },
  {
   "cell_type": "code",
   "execution_count": 199,
   "metadata": {},
   "outputs": [],
   "source": [
    "star = pd.read_csv ('boston.csv')\n",
    "y = star['TAX']\n",
    "X = star[star.columns[~(star.columns == 'TAX')]]"
   ]
  },
  {
   "cell_type": "code",
   "execution_count": 200,
   "metadata": {},
   "outputs": [],
   "source": [
    "X_train, X_test, y_train, y_test = train_test_split(X, y, train_size = 0.8, random_state = 200)\n",
    "X_val, _ , y_val, _ = train_test_split(X, y, test_size=0.5, random_state=200)\n",
    "X_train, X_test, y_train, y_test  = np.array(X_train),  np.array(X_test),  np.array(y_train),  np.array(y_test )\n",
    "X_val, y_val = np.array(X_val), np.array(y_val)\n",
    "num_none = 2\n",
    "shape_1 = np.random.choice(len(X_train), size=num_none, replace=True)\n",
    "shape_2 = np.random.choice(len(X_train[1]), size=num_none, replace=True)\n",
    "X_train[shape_1, shape_2] = None"
   ]
  },
  {
   "cell_type": "code",
   "execution_count": 201,
   "metadata": {},
   "outputs": [
    {
     "name": "stdout",
     "output_type": "stream",
     "text": [
      "Mean Squared Error (MSE): 1967.08\n",
      "Mean Absolute Error (MAE): 21.11\n",
      "CPU times: user 4.47 ms, sys: 2.09 ms, total: 6.56 ms\n",
      "Wall time: 6.42 ms\n"
     ]
    }
   ],
   "source": [
    "%%time\n",
    "regressor = DecisionTreeRegressor(random_state=42, max_depth=300,  criterion='squared_error')\n",
    "regressor.fit(X_train, y_train)\n",
    "y_pred = regressor.predict(X_test)\n",
    "mse = mean_squared_error(y_test, y_pred)\n",
    "mae = mean_absolute_error(y_test, y_pred)\n",
    "print(f\"Mean Squared Error (MSE): {mse:.2f}\")\n",
    "print(f\"Mean Absolute Error (MAE): {mae:.2f}\")"
   ]
  },
  {
   "cell_type": "code",
   "execution_count": 202,
   "metadata": {},
   "outputs": [
    {
     "name": "stdout",
     "output_type": "stream",
     "text": [
      "Mean Squared Error (MSE): 550.44\n",
      "Mean Absolute Error (MAE): 5.13\n",
      "CPU times: user 277 ms, sys: 2.97 ms, total: 280 ms\n",
      "Wall time: 284 ms\n"
     ]
    }
   ],
   "source": [
    "%%time\n",
    "tree_entropy = ID3(ID3_type='regression', max_depth=300)\n",
    "tree_entropy.fit(X_train, y_train)\n",
    "y_pred = tree_entropy.predict(X_test)\n",
    "mse = mean_squared_error(y_test, y_pred)\n",
    "mae = mean_absolute_error(y_test, y_pred)\n",
    "print(f\"Mean Squared Error (MSE): {mse:.2f}\")\n",
    "print(f\"Mean Absolute Error (MAE): {mae:.2f}\")"
   ]
  },
  {
   "cell_type": "code",
   "execution_count": 203,
   "metadata": {},
   "outputs": [
    {
     "name": "stdout",
     "output_type": "stream",
     "text": [
      "Mean Squared Error (MSE): 550.44\n",
      "Mean Absolute Error (MAE): 5.13\n",
      "CPU times: user 12.6 ms, sys: 1.66 ms, total: 14.3 ms\n",
      "Wall time: 13.2 ms\n"
     ]
    }
   ],
   "source": [
    "%%time\n",
    "new_tree = tree_entropy.pruning(X_val, y_val)\n",
    "tree_entropy.dec_tree = new_tree\n",
    "mse = mean_squared_error(y_test, y_pred)\n",
    "mae = mean_absolute_error(y_test, y_pred)\n",
    "print(f\"Mean Squared Error (MSE): {mse:.2f}\")\n",
    "print(f\"Mean Absolute Error (MAE): {mae:.2f}\")"
   ]
  },
  {
   "cell_type": "code",
   "execution_count": null,
   "metadata": {},
   "outputs": [],
   "source": []
  },
  {
   "cell_type": "code",
   "execution_count": null,
   "metadata": {},
   "outputs": [],
   "source": []
  }
 ],
 "metadata": {
  "kernelspec": {
   "display_name": "business",
   "language": "python",
   "name": "python3"
  },
  "language_info": {
   "codemirror_mode": {
    "name": "ipython",
    "version": 3
   },
   "file_extension": ".py",
   "mimetype": "text/x-python",
   "name": "python",
   "nbconvert_exporter": "python",
   "pygments_lexer": "ipython3",
   "version": "3.8.19"
  }
 },
 "nbformat": 4,
 "nbformat_minor": 2
}
